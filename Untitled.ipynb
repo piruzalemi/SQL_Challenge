{
 "cells": [
  {
   "cell_type": "code",
   "execution_count": null,
   "metadata": {},
   "outputs": [],
   "source": [
    "#!/usr/bin/env python\n",
    "import preprocessing\n",
    "mysql = {'host': 'localhost',\n",
    "         'user': 'piruzalemi',\n",
    "         'passwd': 'Roshan2017',\n",
    "         'db': 'ALEMIDEPT'}\n",
    "preprocessing_queue = [preprocessing.scale_and_center,\n",
    "                       preprocessing.dot_reduction,\n",
    "                       preprocessing.connect_lines]\n",
    "use_anonymous = True"
   ]
  }
 ],
 "metadata": {
  "kernelspec": {
   "display_name": "Python 3",
   "language": "python",
   "name": "python3"
  },
  "language_info": {
   "codemirror_mode": {
    "name": "ipython",
    "version": 3
   },
   "file_extension": ".py",
   "mimetype": "text/x-python",
   "name": "python",
   "nbconvert_exporter": "python",
   "pygments_lexer": "ipython3",
   "version": "3.7.4"
  }
 },
 "nbformat": 4,
 "nbformat_minor": 2
}
